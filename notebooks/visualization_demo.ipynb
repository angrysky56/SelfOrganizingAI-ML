{
 "cells": [
  {
   "cell_type": "markdown",
   "metadata": {},
   "source": [
    "# Self-Organizing AI-ML Visualization Demo\n",
    "\n",
    "This notebook demonstrates the various visualization capabilities of the simulation framework."
   ]
  },
  {
   "cell_type": "code",
   "execution_count": null,
   "metadata": {},
   "outputs": [],
   "source": [
    "import sys\n",
    "import os\n",
    "sys.path.append('..')\n",
    "\n",
    "import asyncio\n",
    "import torch\n",
    "import numpy as np\n",
    "from src.simulations.prototypes.self_organizing_sim import SelfOrganizingSimulation, SimulationConfig\n",
    "from src.simulations.utils.visualization import (\n",
    "    create_2d_scatter,\n",
    "    create_3d_visualization,\n",
    "    plot_statistics,\n",
    "    create_phase_space_plot\n",
    ")\n",
    "import plotly.io as pio\n",
    "pio.renderers.default = 'notebook'\n",
    "\n",
    "print(f\"Using device: {'cuda' if torch.cuda.is_available() else 'cpu'}\")"
   ]
  },
  {
   "cell_type": "markdown",
   "metadata": {},
   "source": [
    "## 1. Initialize and Run Simulation"
   ]
  },
  {
   "cell_type": "code",
   "execution_count": null,
   "metadata": {},
   "outputs": [],
   "source": [
    "# Configure simulation\n",
    "config = SimulationConfig(\n",
    "    batch_size=64,\n",
    "    max_agents=100,  # Reduced for visualization clarity\n",
    "    learning_rate=0.001,\n",
    "    max_iterations=1000\n",
    ")\n",
    "\n",
    "# Create simulation instance\n",
    "sim = SelfOrganizingSimulation(config)\n",
    "\n",
    "# Run simulation\n",
    "async def run_sim():\n",
    "    return await sim.run_simulation(num_steps=200)\n",
    "\n",
    "results = await run_sim()\n",
    "print(\"Simulation completed!\")"
   ]
  },
  {
   "cell_type": "markdown",
   "metadata": {},
   "source": [
    "## 2. 2D Real-time Visualization"
   ]
  },
  {
   "cell_type": "code",
   "execution_count": null,
   "metadata": {},
   "outputs": [],
   "source": [
    "# Create 2D scatter plot of final state\n",
    "fig_2d = create_2d_scatter(results['final_state'], frame_idx=200)\n",
    "fig_2d.show()"
   ]
  },
  {
   "cell_type": "markdown",
   "metadata": {},
   "source": [
    "## 3. 3D Trajectory Visualization"
   ]
  },
  {
   "cell_type": "code",
   "execution_count": null,
   "metadata": {},
   "outputs": [],
   "source": [
    "# Extract states history\n",
    "states_history = []\n",
    "async def collect_states():\n",
    "    state = await sim.initialize()\n",
    "    states_history.append(state)\n",
    "    for _ in range(100):\n",
    "        state = await sim.step(state)\n",
    "        states_history.append(state)\n",
    "    return states_history\n",
    "\n",
    "states_history = await collect_states()\n",
    "\n",
    "# Create 3D visualization\n",
    "fig_3d = create_3d_visualization(states_history, skip_frames=2)\n",
    "fig_3d.show()"
   ]
  },
  {
   "cell_type": "markdown",
   "metadata": {},
   "source": [
    "## 4. Statistical Analysis"
   ]
  },
  {
   "cell_type": "code",
   "execution_count": null,
   "metadata": {},
   "outputs": [],
   "source": [
    "# Plot statistics over time\n",
    "fig_stats = plot_statistics(results['stats_history'])\n",
    "fig_stats.show()"
   ]
  },
  {
   "cell_type": "markdown",
   "metadata": {},
   "source": [
    "## 5. Phase Space Analysis"
   ]
  },
  {
   "cell_type": "code",
   "execution_count": null,
   "metadata": {},
   "outputs": [],
   "source": [
    "# Create phase space plot\n",
    "fig_phase = create_phase_space_plot(results['final_state'])\n",
    "fig_phase.show()"
   ]
  },
  {
   "cell_type": "markdown",
   "metadata": {},
   "source": [
    "## 6. Interactive Animation"
   ]
  },
  {
   "cell_type": "code",
   "execution_count": null,
   "metadata": {},
   "outputs": [],
   "source": [
    "import plotly.graph_objects as go\n",
    "from ipywidgets import interact\n",
    "\n",
    "@interact(frame=(0, len(states_history)-1))\n",
    "def update_frame(frame):\n",
    "    fig = create_2d_scatter(states_history[frame], frame_idx=frame)\n",
    "    fig.show()"
   ]
  },
  {
   "cell_type": "markdown",
   "metadata": {},
   "source": [
    "## 7. Energy Analysis"
   ]
  },
  {
   "cell_type": "code",
   "execution_count": null,
   "metadata": {},
   "outputs": [],
   "source": [
    "# Calculate and plot system energy over time\n",
    "energies = [stats['energy'] for stats in results['stats_history']]\n",
    "fig = go.Figure()\n",
    "fig.add_trace(go.Scatter(y=energies, mode='lines', name='System Energy'))\n",
    "fig.update_layout(title='System Energy Over Time',\n",
    "                  xaxis_title='Time Step',\n",
    "                  yaxis_title='Energy')\n",
    "fig.show()"
   ]
  }
 ],
 "metadata": {
  "kernelspec": {
   "display_name": "Python 3",
   "language": "python",
   "name": "python3"
  },
  "language_info": {
   "codemirror_mode": {
    "name": "ipython",
    "version": 3
   },
   "file_extension": ".py",
   "mimetype": "text/x-python",
   "name": "python",
   "nbconvert_exporter": "python",
   "pygments_lexer": "ipython3",
   "version": "3.10.16"
  }
 },
 "nbformat": 4,
 "nbformat_minor": 4
}